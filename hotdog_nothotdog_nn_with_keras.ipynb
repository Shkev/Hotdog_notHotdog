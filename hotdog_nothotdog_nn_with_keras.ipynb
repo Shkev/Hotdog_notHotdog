{
  "nbformat": 4,
  "nbformat_minor": 0,
  "metadata": {
    "colab": {
      "name": "hotdog_nothotdog_nn_with_keras.ipynb",
      "provenance": [],
      "collapsed_sections": [],
      "include_colab_link": true
    },
    "kernelspec": {
      "name": "python3",
      "display_name": "Python 3"
    },
    "accelerator": "GPU"
  },
  "cells": [
    {
      "cell_type": "markdown",
      "metadata": {
        "id": "view-in-github",
        "colab_type": "text"
      },
      "source": [
        "<a href=\"https://colab.research.google.com/github/Shkev/Hotdog_notHotdog/blob/master/hotdog_nothotdog_nn_with_keras.ipynb\" target=\"_parent\"><img src=\"https://colab.research.google.com/assets/colab-badge.svg\" alt=\"Open In Colab\"/></a>"
      ]
    },
    {
      "cell_type": "code",
      "metadata": {
        "id": "oNxVRk3Ay7SP",
        "colab_type": "code",
        "outputId": "2171ae67-0457-466c-8aed-f7be8b4cd9ae",
        "colab": {
          "base_uri": "https://localhost:8080/",
          "height": 122
        }
      },
      "source": [
        "from google.colab import drive\n",
        "drive.mount('/content/drive')"
      ],
      "execution_count": 0,
      "outputs": [
        {
          "output_type": "stream",
          "text": [
            "Go to this URL in a browser: https://accounts.google.com/o/oauth2/auth?client_id=947318989803-6bn6qk8qdgf4n4g3pfee6491hc0brc4i.apps.googleusercontent.com&redirect_uri=urn%3aietf%3awg%3aoauth%3a2.0%3aoob&response_type=code&scope=email%20https%3a%2f%2fwww.googleapis.com%2fauth%2fdocs.test%20https%3a%2f%2fwww.googleapis.com%2fauth%2fdrive%20https%3a%2f%2fwww.googleapis.com%2fauth%2fdrive.photos.readonly%20https%3a%2f%2fwww.googleapis.com%2fauth%2fpeopleapi.readonly\n",
            "\n",
            "Enter your authorization code:\n",
            "··········\n",
            "Mounted at /content/drive\n"
          ],
          "name": "stdout"
        }
      ]
    },
    {
      "cell_type": "code",
      "metadata": {
        "id": "youRYNdrvRZv",
        "colab_type": "code",
        "outputId": "c8045a3b-7bcf-448f-a25a-d1534ff5c169",
        "colab": {
          "base_uri": "https://localhost:8080/",
          "height": 34
        }
      },
      "source": [
        "try:\n",
        "  # %tensorflow_version only exists in Colab.\n",
        "  %tensorflow_version 2.x\n",
        "except Exception:\n",
        "  pass"
      ],
      "execution_count": 0,
      "outputs": [
        {
          "output_type": "stream",
          "text": [
            "TensorFlow 2.x selected.\n"
          ],
          "name": "stdout"
        }
      ]
    },
    {
      "cell_type": "code",
      "metadata": {
        "id": "9Jq378ghu9Ny",
        "colab_type": "code",
        "outputId": "df36fcb2-ba95-4222-e427-112ce2cabec6",
        "colab": {
          "base_uri": "https://localhost:8080/",
          "height": 34
        }
      },
      "source": [
        "from __future__ import absolute_import, division, print_function, unicode_literals\n",
        "import math\n",
        "import tensorflow as tf\n",
        "import os\n",
        "import numpy as np\n",
        "from sklearn.utils import shuffle\n",
        "import matplotlib.pyplot as plt\n",
        "from IPython import display\n",
        "\n",
        "print(tf.__version__)\n",
        "\n",
        "#hyperparam\n",
        "training_iterations = 10\n",
        "\n",
        "HOTDOG_PATH = \"/content/drive/My Drive/Colab Notebooks/ML/Hotdog_notHotdog/HotDogData/HotDog\"\n",
        "NOTHOTDOG_PATH = \"/content/drive/My Drive/Colab Notebooks/ML/Hotdog_notHotdog/HotDogData/notHotDog\""
      ],
      "execution_count": 0,
      "outputs": [
        {
          "output_type": "stream",
          "text": [
            "2.1.0-rc1\n"
          ],
          "name": "stdout"
        }
      ]
    },
    {
      "cell_type": "markdown",
      "metadata": {
        "id": "5f1TLu_AvYX6",
        "colab_type": "text"
      },
      "source": [
        "#Defining Functions"
      ]
    },
    {
      "cell_type": "code",
      "metadata": {
        "id": "--WApwxpvey5",
        "colab_type": "code",
        "colab": {}
      },
      "source": [
        "#not used in model\n",
        "def y_labels(indices, depth):\n",
        "    return tf.one_hot(indices, depth)     #creates one_hot encoding for data; tensor size = (# of elements in index) x (depth)"
      ],
      "execution_count": 0,
      "outputs": []
    },
    {
      "cell_type": "code",
      "metadata": {
        "id": "Ib1hss6Iwj8z",
        "colab_type": "code",
        "colab": {}
      },
      "source": [
        "def import_data(image_path):\n",
        "  image_contents = tf.io.read_file(filename=image_path)   #reads image file\n",
        "  modified_image = tf.image.decode_jpeg(contents=image_contents, channels=1)   #decodes jpeg image to tensor (uint8)\n",
        "  cropped_and_modified_image_tensor = tf.image.resize_with_crop_or_pad(modified_image, 100, 100)   #resizes image\n",
        "  image_tensor = tf.cast(cropped_and_modified_image_tensor, dtype=tf.float32)   #casts reshaped modified image tensor as a float32\n",
        "  return image_tensor"
      ],
      "execution_count": 0,
      "outputs": []
    },
    {
      "cell_type": "markdown",
      "metadata": {
        "id": "O280uuD8yFpt",
        "colab_type": "text"
      },
      "source": [
        "#Creating Model\n"
      ]
    },
    {
      "cell_type": "markdown",
      "metadata": {
        "id": "fWFOMxYryAPt",
        "colab_type": "text"
      },
      "source": [
        "Reading in data.\n",
        "Splitting Data into Training/Validation and Test set.\n"
      ]
    },
    {
      "cell_type": "code",
      "metadata": {
        "id": "IGR6s6XjyJzK",
        "colab_type": "code",
        "colab": {}
      },
      "source": [
        "img_array = []\n",
        "labels = []\n",
        "num_hotdog = sum([len(files) for r, d, files in os.walk(HOTDOG_PATH)])\n",
        "num_nothotdog = sum([len(files) for r, d, files in os.walk(NOTHOTDOG_PATH)])"
      ],
      "execution_count": 0,
      "outputs": []
    },
    {
      "cell_type": "code",
      "metadata": {
        "id": "-I2LQPebzOPC",
        "colab_type": "code",
        "colab": {}
      },
      "source": [
        "for item in os.listdir(HOTDOG_PATH):\n",
        "  img_path = os.path.join(HOTDOG_PATH, item)\n",
        "  img_tensor = import_data(img_path)\n",
        "  img_tensor = np.asarray(img_tensor) / 255. #scaling down pixel values to be between 0 and 1\n",
        "  img_array.append(img_tensor)\n",
        "  labels.append(1)\n",
        "\n",
        "for item in os.listdir(NOTHOTDOG_PATH):\n",
        "  img_path = os.path.join(NOTHOTDOG_PATH, item)\n",
        "  img_tensor = import_data(img_path)\n",
        "  img_tensor = np.asarray(img_tensor) / 255.\n",
        "  img_array.append(img_tensor)\n",
        "  labels.append(0)"
      ],
      "execution_count": 0,
      "outputs": []
    },
    {
      "cell_type": "code",
      "metadata": {
        "id": "f59dUDIgG5w3",
        "colab_type": "code",
        "colab": {}
      },
      "source": [
        "img_array = np.array(img_array)\n",
        "labels = np.array(labels)\n",
        "img_array, labels = shuffle(img_array, labels) #shuffles two arrays together to keep items aligned with each other"
      ],
      "execution_count": 0,
      "outputs": []
    },
    {
      "cell_type": "markdown",
      "metadata": {
        "id": "0w9_a7TRE_vL",
        "colab_type": "text"
      },
      "source": [
        "Splitting Data into training, testing and validation sets"
      ]
    },
    {
      "cell_type": "code",
      "metadata": {
        "id": "kKDHq9i8FGE5",
        "colab_type": "code",
        "outputId": "35f6fa80-22e5-4f0d-efd9-059a4ef3d5f9",
        "colab": {
          "base_uri": "https://localhost:8080/",
          "height": 54
        }
      },
      "source": [
        "training_split_index = math.ceil(0.7*(num_hotdog + num_nothotdog))\n",
        "training_images = img_array[:training_split_index]\n",
        "training_labels = labels[:training_split_index]\n",
        "testing_set = img_array[training_split_index:]\n",
        "test_labels = labels[training_split_index:]\n",
        "\n",
        "\"\"\"training_val_split_index = math.ceil(0.6*training_split_index)\n",
        "training_set = training_images[:training_val_split_index]\n",
        "training_labels = training_labels_set[:training_val_split_index]\n",
        "validation_set = training_images[training_val_split_index:]\n",
        "validation_labels = training_labels_set[training_val_split_index:]\"\"\""
      ],
      "execution_count": 0,
      "outputs": [
        {
          "output_type": "execute_result",
          "data": {
            "text/plain": [
              "'training_val_split_index = math.ceil(0.6*training_split_index)\\ntraining_set = training_images[:training_val_split_index]\\ntraining_labels = training_labels_set[:training_val_split_index]\\nvalidation_set = training_images[training_val_split_index:]\\nvalidation_labels = training_labels_set[training_val_split_index:]'"
            ]
          },
          "metadata": {
            "tags": []
          },
          "execution_count": 73
        }
      ]
    },
    {
      "cell_type": "markdown",
      "metadata": {
        "id": "lLIZlKf0qMls",
        "colab_type": "text"
      },
      "source": [
        "Creating Model"
      ]
    },
    {
      "cell_type": "code",
      "metadata": {
        "id": "Bq_eQIMyyYSo",
        "colab_type": "code",
        "colab": {}
      },
      "source": [
        "\"\"\"Using This model\"\"\"\n",
        "model = tf.keras.Sequential()\n",
        "model.add(tf.keras.layers.Conv2D(16, 3, activation='relu', input_shape=(100, 100, 1)))\n",
        "model.add(tf.keras.layers.Conv2D(32, 3, activation='relu'))\n",
        "model.add(tf.keras.layers.Conv2D(64, 3, activation='relu'))\n",
        "model.add(tf.keras.layers.MaxPooling2D(2))\n",
        "model.add(tf.keras.layers.Dropout(0.5))\n",
        "model.add(tf.keras.layers.BatchNormalization())\n",
        "model.add(tf.keras.layers.Flatten())\n",
        "model.add(tf.keras.layers.Dense(64, activation='relu', kernel_constraint=tf.keras.constraints.max_norm(3)))\n",
        "model.add(tf.keras.layers.Dense(32, activation='relu', kernel_constraint=tf.keras.constraints.max_norm(3)))\n",
        "model.add(tf.keras.layers.Dense(16, activation='relu', kernel_constraint=tf.keras.constraints.max_norm(3)))\n",
        "model.add(tf.keras.layers.Dropout(0.3))\n",
        "model.add(tf.keras.layers.Dense(1, activation='sigmoid'))"
      ],
      "execution_count": 0,
      "outputs": []
    },
    {
      "cell_type": "code",
      "metadata": {
        "id": "M_G-xg586pK1",
        "colab_type": "code",
        "colab": {}
      },
      "source": [
        "\"\"\"model = tf.keras.Sequential()\n",
        "model.add(tf.keras.layers.Conv2D(32, 3, activation='relu', input_shape=(100, 100, 1)))\n",
        "model.add(tf.keras.layers.Conv2D(32, 3, activation='relu'))\n",
        "model.add(tf.keras.layers.Dropout(0.2))\n",
        "model.add(tf.keras.layers.BatchNormalization())\n",
        "model.add(tf.keras.layers.Conv2D(64, 3, activation='relu'))\n",
        "model.add(tf.keras.layers.MaxPooling2D(pool_size=3))\n",
        "model.add(tf.keras.layers.Dropout(0.2))\n",
        "model.add(tf.keras.layers.BatchNormalization())\n",
        "model.add(tf.keras.layers.Flatten())\n",
        "model.add(tf.keras.layers.Dropout(0.2))\n",
        "\n",
        "model.add(tf.keras.layers.Dense(256, activation='relu', kernel_constraint=tf.keras.constraints.max_norm(2)))\n",
        "model.add(tf.keras.layers.Dropout(0.2))\n",
        "model.add(tf.keras.layers.BatchNormalization())\n",
        "\n",
        "model.add(tf.keras.layers.Dense(128, activation='relu', kernel_constraint=tf.keras.constraints.max_norm(3)))\n",
        "model.add(tf.keras.layers.Dropout(0.2))\n",
        "model.add(tf.keras.layers.BatchNormalization())\n",
        "\n",
        "model.add(tf.keras.layers.Dense(64, activation='relu', kernel_constraint=tf.keras.constraints.max_norm(3)))\n",
        "model.add(tf.keras.layers.Dropout(0.2))\n",
        "model.add(tf.keras.layers.BatchNormalization())\n",
        "\n",
        "#output layer\n",
        "model.add(tf.keras.layers.Dense(1, activation='sigmoid'))\"\"\""
      ],
      "execution_count": 0,
      "outputs": []
    },
    {
      "cell_type": "code",
      "metadata": {
        "id": "aMP-J4b0UGWW",
        "colab_type": "code",
        "colab": {}
      },
      "source": [
        "\"\"\"model = tf.keras.Sequential()\n",
        "model.add(tf.keras.layers.Conv2D(16, 3, activation='relu', input_shape=(100, 100, 1)))\n",
        "model.add(tf.keras.layers.MaxPooling2D(2))\n",
        "model.add(tf.keras.layers.Dropout(0.2))\n",
        "model.add(tf.keras.layers.Flatten())\n",
        "model.add(tf.keras.layers.Dense(64, activation='relu', kernel_constraint=tf.keras.constraints.max_norm(3)))\n",
        "model.add(tf.keras.layers.Dense(16, activation='relu', kernel_constraint=tf.keras.constraints.max_norm(3)))\n",
        "model.add(tf.keras.layers.Dense(1, activation='sigmoid'))\"\"\""
      ],
      "execution_count": 0,
      "outputs": []
    },
    {
      "cell_type": "code",
      "metadata": {
        "id": "R__CY4rb-TbS",
        "colab_type": "code",
        "colab": {}
      },
      "source": [
        "model.compile(\n",
        "    optimizer='adam',\n",
        "    loss='binary_crossentropy',\n",
        "    metrics=['accuracy'])"
      ],
      "execution_count": 0,
      "outputs": []
    },
    {
      "cell_type": "markdown",
      "metadata": {
        "id": "5ooSCzGIH1kS",
        "colab_type": "text"
      },
      "source": [
        "Fitting Model"
      ]
    },
    {
      "cell_type": "code",
      "metadata": {
        "id": "abrTU9p8Lyfs",
        "colab_type": "code",
        "colab": {}
      },
      "source": [
        "model.summary()"
      ],
      "execution_count": 0,
      "outputs": []
    },
    {
      "cell_type": "code",
      "metadata": {
        "id": "JieprvSWH1Ln",
        "colab_type": "code",
        "outputId": "89f5e2b1-6083-4d6a-a58d-0cbce4627a59",
        "colab": {
          "base_uri": "https://localhost:8080/",
          "height": 394
        }
      },
      "source": [
        "history = model.fit(training_images,\n",
        "                    training_labels,\n",
        "                    epochs=10,\n",
        "                    batch_size=50,\n",
        "                    validation_split=0.4,\n",
        "                    verbose=1)"
      ],
      "execution_count": 0,
      "outputs": [
        {
          "output_type": "stream",
          "text": [
            "Train on 109 samples, validate on 74 samples\n",
            "Epoch 1/10\n",
            "109/109 [==============================] - 1s 5ms/sample - loss: 0.8790 - accuracy: 0.3945 - val_loss: 0.6971 - val_accuracy: 0.2973\n",
            "Epoch 2/10\n",
            "109/109 [==============================] - 0s 318us/sample - loss: 0.6902 - accuracy: 0.5321 - val_loss: 0.6820 - val_accuracy: 0.6892\n",
            "Epoch 3/10\n",
            "109/109 [==============================] - 0s 273us/sample - loss: 0.6831 - accuracy: 0.6055 - val_loss: 0.6758 - val_accuracy: 0.6892\n",
            "Epoch 4/10\n",
            "109/109 [==============================] - 0s 282us/sample - loss: 0.6774 - accuracy: 0.6055 - val_loss: 0.6685 - val_accuracy: 0.6892\n",
            "Epoch 5/10\n",
            "109/109 [==============================] - 0s 283us/sample - loss: 0.6722 - accuracy: 0.6055 - val_loss: 0.6616 - val_accuracy: 0.6892\n",
            "Epoch 6/10\n",
            "109/109 [==============================] - 0s 277us/sample - loss: 0.6663 - accuracy: 0.6055 - val_loss: 0.6578 - val_accuracy: 0.6892\n",
            "Epoch 7/10\n",
            "109/109 [==============================] - 0s 277us/sample - loss: 0.6654 - accuracy: 0.6055 - val_loss: 0.6557 - val_accuracy: 0.6892\n",
            "Epoch 8/10\n",
            "109/109 [==============================] - 0s 292us/sample - loss: 0.6680 - accuracy: 0.6055 - val_loss: 0.6552 - val_accuracy: 0.6892\n",
            "Epoch 9/10\n",
            "109/109 [==============================] - 0s 412us/sample - loss: 0.6675 - accuracy: 0.6055 - val_loss: 0.6551 - val_accuracy: 0.6892\n",
            "Epoch 10/10\n",
            "109/109 [==============================] - 0s 250us/sample - loss: 0.6644 - accuracy: 0.6055 - val_loss: 0.6562 - val_accuracy: 0.7162\n"
          ],
          "name": "stdout"
        }
      ]
    },
    {
      "cell_type": "code",
      "metadata": {
        "id": "a_3MghBSWGyn",
        "colab_type": "code",
        "colab": {}
      },
      "source": [
        "history.history['accuracy']"
      ],
      "execution_count": 0,
      "outputs": []
    },
    {
      "cell_type": "markdown",
      "metadata": {
        "id": "8grpqL400Xpj",
        "colab_type": "text"
      },
      "source": [
        "Saving Model"
      ]
    },
    {
      "cell_type": "code",
      "metadata": {
        "id": "IXJ8Gjuq0Yxj",
        "colab_type": "code",
        "outputId": "11d44b68-6ebc-40a7-b190-abea535f56c9",
        "colab": {
          "base_uri": "https://localhost:8080/",
          "height": 105
        }
      },
      "source": [
        "model.save(\"/content/drive/My Drive/Colab Notebooks/ML/Hotdog_notHotdog/Saved_Model\")"
      ],
      "execution_count": 0,
      "outputs": [
        {
          "output_type": "stream",
          "text": [
            "WARNING:tensorflow:From /tensorflow-2.1.0/python3.6/tensorflow_core/python/ops/resource_variable_ops.py:1786: calling BaseResourceVariable.__init__ (from tensorflow.python.ops.resource_variable_ops) with constraint is deprecated and will be removed in a future version.\n",
            "Instructions for updating:\n",
            "If using Keras pass *_constraint arguments to layers.\n",
            "INFO:tensorflow:Assets written to: /content/drive/My Drive/Colab Notebooks/ML/Hotdog_notHotdog/Saved_Model/assets\n"
          ],
          "name": "stdout"
        }
      ]
    },
    {
      "cell_type": "code",
      "metadata": {
        "id": "Fl7bVcDgp4EB",
        "colab_type": "code",
        "colab": {}
      },
      "source": [
        "model.load_weights(\"/content/drive/My Drive/Colab Notebooks/ML/Hotdog_notHotdog/Saved_Model/assets\")"
      ],
      "execution_count": 0,
      "outputs": []
    },
    {
      "cell_type": "markdown",
      "metadata": {
        "id": "WWkeqBcmOA38",
        "colab_type": "text"
      },
      "source": [
        "##Testing Model\n"
      ]
    },
    {
      "cell_type": "code",
      "metadata": {
        "id": "9gcA985JOC_Q",
        "colab_type": "code",
        "outputId": "8bcbf4b8-2e2b-474e-99a4-d8c0b96e799a",
        "colab": {
          "base_uri": "https://localhost:8080/",
          "height": 68
        }
      },
      "source": [
        "test_loss, test_acc = model.evaluate(testing_set, test_labels, verbose=2)\n",
        "print('\\nTest accuracy:', test_acc)"
      ],
      "execution_count": 0,
      "outputs": [
        {
          "output_type": "stream",
          "text": [
            "78/78 - 0s - loss: 0.7353 - accuracy: 0.5128\n",
            "\n",
            "Test accuracy: 0.51282054\n"
          ],
          "name": "stdout"
        }
      ]
    },
    {
      "cell_type": "markdown",
      "metadata": {
        "id": "jz_w2DQSOa7I",
        "colab_type": "text"
      },
      "source": [
        "###Making Predictions"
      ]
    },
    {
      "cell_type": "code",
      "metadata": {
        "id": "S8r9ek_dOaE4",
        "colab_type": "code",
        "colab": {}
      },
      "source": [
        "predictions = model.predict(testing_set)"
      ],
      "execution_count": 0,
      "outputs": []
    },
    {
      "cell_type": "code",
      "metadata": {
        "id": "fguuWNLGOjdP",
        "colab_type": "code",
        "outputId": "71dbe26d-68b9-4dea-d78a-470305daae6b",
        "colab": {
          "base_uri": "https://localhost:8080/",
          "height": 1000
        }
      },
      "source": [
        "display.display(predictions, test_labels)"
      ],
      "execution_count": 0,
      "outputs": [
        {
          "output_type": "display_data",
          "data": {
            "text/plain": [
              "array([[0.60500574],\n",
              "       [0.60637987],\n",
              "       [0.60453945],\n",
              "       [0.60508   ],\n",
              "       [0.60442805],\n",
              "       [0.60509676],\n",
              "       [0.60641116],\n",
              "       [0.60412556],\n",
              "       [0.60357714],\n",
              "       [0.6062592 ],\n",
              "       [0.60265285],\n",
              "       [0.6032412 ],\n",
              "       [0.60624087],\n",
              "       [0.6060382 ],\n",
              "       [0.6064284 ],\n",
              "       [0.60474277],\n",
              "       [0.60452247],\n",
              "       [0.6067172 ],\n",
              "       [0.60292244],\n",
              "       [0.6052927 ],\n",
              "       [0.60321647],\n",
              "       [0.6042203 ],\n",
              "       [0.6060348 ],\n",
              "       [0.6026124 ],\n",
              "       [0.6060215 ],\n",
              "       [0.603773  ],\n",
              "       [0.60479337],\n",
              "       [0.6064613 ],\n",
              "       [0.60269195],\n",
              "       [0.6047648 ],\n",
              "       [0.6062867 ],\n",
              "       [0.60395193],\n",
              "       [0.6034429 ],\n",
              "       [0.6066105 ],\n",
              "       [0.60462445],\n",
              "       [0.60458267],\n",
              "       [0.603094  ],\n",
              "       [0.6034218 ],\n",
              "       [0.6049829 ],\n",
              "       [0.604404  ],\n",
              "       [0.60614693],\n",
              "       [0.60590076],\n",
              "       [0.6053628 ],\n",
              "       [0.60276705],\n",
              "       [0.60493046],\n",
              "       [0.6063842 ],\n",
              "       [0.60395336],\n",
              "       [0.60532576],\n",
              "       [0.60497904],\n",
              "       [0.60474336],\n",
              "       [0.60452336],\n",
              "       [0.6055481 ],\n",
              "       [0.6037438 ],\n",
              "       [0.6045415 ],\n",
              "       [0.60602796],\n",
              "       [0.60497224],\n",
              "       [0.60520643],\n",
              "       [0.6031209 ],\n",
              "       [0.6057907 ],\n",
              "       [0.60532725],\n",
              "       [0.6050215 ],\n",
              "       [0.603984  ],\n",
              "       [0.60508543],\n",
              "       [0.6065854 ],\n",
              "       [0.6044047 ],\n",
              "       [0.6026511 ],\n",
              "       [0.60319096],\n",
              "       [0.6026859 ],\n",
              "       [0.6048763 ],\n",
              "       [0.6024055 ],\n",
              "       [0.60297996],\n",
              "       [0.6046883 ],\n",
              "       [0.6064648 ],\n",
              "       [0.6056275 ],\n",
              "       [0.60396624],\n",
              "       [0.60462785],\n",
              "       [0.6058031 ],\n",
              "       [0.60240656]], dtype=float32)"
            ]
          },
          "metadata": {
            "tags": []
          }
        },
        {
          "output_type": "display_data",
          "data": {
            "text/plain": [
              "array([0, 1, 0, 0, 0, 0, 1, 0, 1, 1, 0, 0, 0, 1, 1, 0, 1, 1, 1, 0, 0, 1,\n",
              "       1, 0, 0, 0, 0, 1, 1, 0, 1, 0, 1, 1, 1, 0, 0, 1, 0, 0, 1, 0, 0, 0,\n",
              "       0, 1, 1, 0, 1, 0, 1, 1, 1, 1, 0, 1, 0, 0, 1, 0, 1, 0, 0, 1, 0, 1,\n",
              "       0, 1, 1, 1, 0, 1, 1, 1, 1, 1, 0, 1])"
            ]
          },
          "metadata": {
            "tags": []
          }
        }
      ]
    },
    {
      "cell_type": "markdown",
      "metadata": {
        "id": "0G0UfzbC1eFx",
        "colab_type": "text"
      },
      "source": [
        "#Making Predictions based on Other Images"
      ]
    },
    {
      "cell_type": "markdown",
      "metadata": {
        "id": "4sLAuWJN1kcJ",
        "colab_type": "text"
      },
      "source": [
        "Importing the image(s)"
      ]
    },
    {
      "cell_type": "code",
      "metadata": {
        "id": "iwIHTFnM24Fl",
        "colab_type": "code",
        "colab": {}
      },
      "source": [
        "new_image_arr = []\n",
        "new_labels = []"
      ],
      "execution_count": 0,
      "outputs": []
    },
    {
      "cell_type": "code",
      "metadata": {
        "id": "2JLgmlbH1jPJ",
        "colab_type": "code",
        "colab": {}
      },
      "source": [
        "def import_extra_image(IMG_PATH, label, new_image_arr, new_labels):\n",
        "  img_tensor = import_data(IMG_PATH)\n",
        "  img_tensor = np.asarray(img_tensor) / 255. #scaling down pixel values to be between 0 and 1\n",
        "  new_image_arr.append(img_tensor)\n",
        "  new_labels.append(label)"
      ],
      "execution_count": 0,
      "outputs": []
    },
    {
      "cell_type": "code",
      "metadata": {
        "id": "5K7ON-Rw2Tnl",
        "colab_type": "code",
        "colab": {}
      },
      "source": [
        "import_extra_image(\"/content/drive/My Drive/Random stuff/Hydrangeas.jpg\", 0, new_image_arr, new_labels)\n",
        "new_image_arr = np.array(new_image_arr)\n",
        "new_labels = np.array(new_labels)"
      ],
      "execution_count": 0,
      "outputs": []
    },
    {
      "cell_type": "code",
      "metadata": {
        "id": "4ZU6N6u42kvz",
        "colab_type": "code",
        "colab": {}
      },
      "source": [
        "display.display(new_image_arr)"
      ],
      "execution_count": 0,
      "outputs": []
    },
    {
      "cell_type": "code",
      "metadata": {
        "id": "RACebrFl3HcE",
        "colab_type": "code",
        "outputId": "88b07a13-35bd-43e1-8195-e94ca26650f1",
        "colab": {
          "base_uri": "https://localhost:8080/",
          "height": 34
        }
      },
      "source": [
        "predictions = model.predict(new_image_arr)\n",
        "display.display(predictions)"
      ],
      "execution_count": 0,
      "outputs": [
        {
          "output_type": "display_data",
          "data": {
            "text/plain": [
              "array([[0.9745206]], dtype=float32)"
            ]
          },
          "metadata": {
            "tags": []
          }
        }
      ]
    },
    {
      "cell_type": "code",
      "metadata": {
        "id": "kln9PeAZ5S8w",
        "colab_type": "code",
        "outputId": "c92bb45a-4e32-438a-9b26-54b0b24b91e8",
        "colab": {
          "base_uri": "https://localhost:8080/",
          "height": 34
        }
      },
      "source": [
        "for item in predictions:\n",
        "  if item >=0.50:\n",
        "    print(\"Hotdog!\")\n",
        "  else:\n",
        "    print(\"Not Hotdog :(\")"
      ],
      "execution_count": 0,
      "outputs": [
        {
          "output_type": "stream",
          "text": [
            "Hotdog!\n"
          ],
          "name": "stdout"
        }
      ]
    }
  ]
}